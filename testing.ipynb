{
 "cells": [
  {
   "cell_type": "code",
   "execution_count": 7,
   "metadata": {},
   "outputs": [
    {
     "name": "stdout",
     "output_type": "stream",
     "text": [
      "The autoreload extension is already loaded. To reload it, use:\n",
      "  %reload_ext autoreload\n"
     ]
    },
    {
     "name": "stderr",
     "output_type": "stream",
     "text": [
      "INFO:cmdstanpy:Add C++ toolchain to $PATH: C:\\Users\\dmattos\\.cmdstan\\RTools40\n"
     ]
    },
    {
     "name": "stdout",
     "output_type": "stream",
     "text": [
      "This is the version 0.0.900 of the pybpcs package.\n",
      "This package requires a working C++ toolchain and an installation of the cmdstan software\n"
     ]
    },
    {
     "data": {
      "text/plain": [
       "('C:\\\\Users\\\\dmattos\\\\.cmdstan\\\\RTools40\\\\mingw64\\\\bin',\n",
       " 'C:\\\\Users\\\\dmattos\\\\.cmdstan\\\\RTools40\\\\usr\\\\bin')"
      ]
     },
     "execution_count": 7,
     "metadata": {},
     "output_type": "execute_result"
    }
   ],
   "source": [
    "#we use the autoreload extension\n",
    "%load_ext autoreload\n",
    "%autoreload 2\n",
    "from pybpcs import bpc\n",
    "from pybpcs.data import tennis_agresti\n",
    "# import importlib\n",
    "import numpy as np\n",
    "import pandas as pd\n",
    "d = tennis_agresti()\n",
    "from tests.testdata import *\n",
    "\n",
    "#fix c++ toolchain path\n",
    "from cmdstanpy.utils import cxx_toolchain_path\n",
    "cxx_toolchain_path()"
   ]
  },
  {
   "cell_type": "code",
   "execution_count": 25,
   "metadata": {},
   "outputs": [
    {
     "name": "stderr",
     "output_type": "stream",
     "text": [
      "INFO:cmdstanpy:found newer exe file, not recompiling\n",
      "INFO:cmdstanpy:compiled model file: C:/Users/dmattos/pybpcs-project/pybpcs/stan/bt.exe\n",
      "Chain 1 - warmup:   0%|          | 0/1 [00:00<?, ?it/s]\n",
      "\u001b[A\n",
      "\n",
      "Chain 1 - warmup:   0%|          | 0/1 [00:00<?, ?it/s]\n",
      "\n",
      "\u001b[A\u001b[A\n",
      "\u001b[A\n",
      "\n",
      "\u001b[A\u001b[A\n",
      "\n",
      "\u001b[A\u001b[A\n",
      "\n",
      "Chain 1 - sample:  33%|███▎      | 1000/3000 [00:00<00:00, 8333.13it/s]\n",
      "\n",
      "\u001b[A\u001b[A\n",
      "Chain 1 - sample:  60%|██████    | 1800/3000 [00:00<00:00, 5452.68it/s]\n",
      "\n",
      "\u001b[A\u001b[A\n",
      "\n",
      "\u001b[A\u001b[A\n",
      "\u001b[A\n",
      "Chain 1 - sample:  83%|████████▎ | 2500/3000 [00:00<00:00, 4833.24it/s]\n",
      "Chain 1 -   done: 100%|██████████| 3000/3000 [00:00<00:00, 4833.24it/s]\n",
      "\u001b[A\n",
      "\u001b[A\n",
      "Chain 1 -   done: 100%|██████████| 3000/3000 [00:00<00:00, 3688.52it/s]\n",
      "Chain 2 -   done: 100%|██████████| 3000/3000 [00:00<00:00, 4141.74it/s]\n",
      "Chain 3 -   done: 100%|██████████| 3000/3000 [00:00<00:00, 5593.48it/s]\n",
      "Chain 4 -   done: 100%|██████████| 3000/3000 [00:00<00:00, 3042.16it/s]\n"
     ]
    }
   ],
   "source": [
    "m = bpc(\n",
    "    data=data_bt(),\n",
    "    player0=\"player0\",\n",
    "    player1=\"player1\",\n",
    "    result_column=\"y\",\n",
    "    model_type=\"bt\",\n",
    ")\n",
    "m.fit()\n"
   ]
  },
  {
   "cell_type": "code",
   "execution_count": 126,
   "metadata": {},
   "outputs": [
    {
     "name": "stdout",
     "output_type": "stream",
     "text": [
      "Estimated baseline parameters with \n",
      "(?:lambda)\\[\n",
      "[4 5 6]\n",
      "{'1': 'A', '2': 'B', '3': 'C'}\n",
      "[['lambda A']\n",
      " ['lambda B']\n",
      " ['lambda C']]\n",
      "  Parameter   Mean   MCSE  StdDev   5%    50%  95%   N_Eff  N_Eff/s  R_hat\n",
      "4  lambda A  1.300  0.040     1.9 -1.8  1.300  4.4  2200.0   1280.0    1.0\n",
      "5  lambda B -0.026  0.041     1.9 -3.1 -0.012  3.0  2072.0   1206.0    1.0\n",
      "6  lambda C -1.400  0.041     1.9 -4.5 -1.400  1.8  2177.0   1267.0    1.0\n",
      "  Parameter   Mean   MCSE  StdDev   5%    50%  95%   N_Eff  N_Eff/s  R_hat\n",
      "4  lambda A  1.300  0.040     1.9 -1.8  1.300  4.4  2200.0   1280.0    1.0\n",
      "5  lambda B -0.026  0.041     1.9 -3.1 -0.012  3.0  2072.0   1206.0    1.0\n",
      "6  lambda C -1.400  0.041     1.9 -4.5 -1.400  1.8  2177.0   1267.0    1.0\n"
     ]
    },
    {
     "name": "stderr",
     "output_type": "stream",
     "text": [
      "c:\\Users\\dmattos\\Anaconda3\\envs\\pybpcs\\lib\\site-packages\\pandas\\core\\indexing.py:1835: SettingWithCopyWarning: \n",
      "A value is trying to be set on a copy of a slice from a DataFrame.\n",
      "Try using .loc[row_indexer,col_indexer] = value instead\n",
      "\n",
      "See the caveats in the documentation: https://pandas.pydata.org/pandas-docs/stable/user_guide/indexing.html#returning-a-view-versus-a-copy\n",
      "  self._setitem_single_column(loc, value[:, i].tolist(), pi)\n"
     ]
    }
   ],
   "source": [
    "# print(dict(zip(m._players_lookuptable['Index'], m._players_lookuptable['Names'])))\n",
    "m.print()"
   ]
  },
  {
   "cell_type": "code",
   "execution_count": null,
   "metadata": {},
   "outputs": [],
   "source": []
  }
 ],
 "metadata": {
  "kernelspec": {
   "display_name": "Python 3.8.12 ('pybpcs')",
   "language": "python",
   "name": "python3"
  },
  "language_info": {
   "codemirror_mode": {
    "name": "ipython",
    "version": 3
   },
   "file_extension": ".py",
   "mimetype": "text/x-python",
   "name": "python",
   "nbconvert_exporter": "python",
   "pygments_lexer": "ipython3",
   "version": "3.8.12"
  },
  "orig_nbformat": 4,
  "vscode": {
   "interpreter": {
    "hash": "c3a95905ef3370b9efccbd9413bd91a20e6ce5c5d62a432851cf86799499df49"
   }
  }
 },
 "nbformat": 4,
 "nbformat_minor": 2
}
